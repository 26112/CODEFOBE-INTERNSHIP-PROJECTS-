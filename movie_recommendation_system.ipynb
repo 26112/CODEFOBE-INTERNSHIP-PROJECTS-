{
  "cells": [
    {
      "cell_type": "markdown",
      "metadata": {
        "id": "lSbuQB-OpeJ7"
      },
      "source": [
        "Problem Statement: Movie Recommendation System 🎬"
      ]
    },
    {
      "cell_type": "markdown",
      "metadata": {
        "id": "RQaJ6R9GplD5"
      },
      "source": [
        "With thousands of movies released across various genres, users often struggle to find a movie that suits their preferences. The goal of this project is to create a Movie Recommendation System that suggests movies based on a user's preferred genre and desired number of recommendations. The system should store a collection of movies categorized by genres and use basic Python data structures (lists and dictionaries) to provide recommendations. Additionally, users should be able to customize their recommendations, add new movies, and search for specific movies."
      ]
    },
    {
      "cell_type": "markdown",
      "metadata": {
        "id": "fJFswSDEppQ0"
      },
      "source": [
        "📌 Problem Statement: Design a Python-based Movie Recommendation System that:"
      ]
    },
    {
      "cell_type": "markdown",
      "metadata": {
        "id": "zFrKXvzBpttb"
      },
      "source": [
        "✅ Allows users to select a movie genre (Action, Comedy, Drama, Sci-Fi, Horror, etc."
      ]
    },
    {
      "cell_type": "markdown",
      "metadata": {
        "id": "dwsiwr_1p-WA"
      },
      "source": [
        "✅ Lets users decide how many recommendations they want."
      ]
    },
    {
      "cell_type": "markdown",
      "metadata": {
        "id": "r5Y0RUwtqB_i"
      },
      "source": [
        "✅ Provides random movie recommendations from the selected genre."
      ]
    },
    {
      "cell_type": "markdown",
      "metadata": {
        "id": "R0UKeJ16qFgH"
      },
      "source": [
        "✅ Enables users to add new movies to the stored movie list.\n"
      ]
    },
    {
      "cell_type": "markdown",
      "metadata": {
        "id": "T2-yaM-hqIro"
      },
      "source": [
        "✅ Stores and retrieves the movie collection using dictionaries."
      ]
    },
    {
      "cell_type": "markdown",
      "metadata": {
        "id": "LBjM2FPtqLzj"
      },
      "source": [
        "✅ Allows users to search for a movie by title."
      ]
    },
    {
      "cell_type": "markdown",
      "metadata": {
        "id": "2d9APPd_qObJ"
      },
      "source": [
        "📌 Project Objectives:"
      ]
    },
    {
      "cell_type": "markdown",
      "metadata": {
        "id": "pIfOx-xrqkQc"
      },
      "source": [
        "🔹 Genre-Based Movie Recommendations – Suggest movies based on user-selected genre.\n",
        "\n",
        "🔹 Customizable Number of Recommendations – Users can choose how many movie suggestions they receive.\n",
        "\n",
        "🔹 Randomized Suggestions – Ensure variety by picking random movies from the stored collection.\n",
        "\n",
        "🔹 Add New Movies – Users can expand the movie list by adding their own favorites.\n",
        "\n",
        "🔹 Dictionary-Based Storage – Store and update the movie collection in a Python dictionary.\n",
        "\n",
        "🔹 Search Functionality – Allow users to find a movie by title."
      ]
    },
    {
      "cell_type": "markdown",
      "metadata": {
        "id": "TBkkM27Iq36p"
      },
      "source": [
        "📌 Example User Flow:"
      ]
    },
    {
      "cell_type": "markdown",
      "metadata": {
        "id": "XcWMbmG0q7FX"
      },
      "source": [
        "Step 1: User runs the program.\n",
        "\n",
        "Step 2: System asks the user to select a genre (e.g., \"Comedy\").\n",
        "\n",
        "Step 3: System asks how many movie recommendations they want (e.g., \"5\").\n",
        "\n",
        "Step 4: System displays 5 random movies from the Comedy genre.\n",
        "\n",
        "Step 5: User chooses to add a new movie (e.g., \"Superbad\" under Comedy).\n",
        "\n",
        "Step 6: System updates the movie list and saves it.\n",
        "\n",
        "Step 7: User searches for a movie by title to check if it exists in the stored collection."
      ]
    },
    {
      "cell_type": "markdown",
      "metadata": {
        "id": "j4GcarSmrHPE"
      },
      "source": [
        "User Runs the Program\n",
        "\n",
        "The program starts with a menu that provides different options:\n",
        "\n",
        "✅ Get Movie Recommendations\n",
        "\n",
        "✅ Add a New Movie\n",
        "\n",
        "✅ Search for a Movie\n",
        "\n",
        "✅ Exit the Program\n"
      ]
    },
    {
      "cell_type": "code",
      "execution_count": null,
      "metadata": {
        "colab": {
          "background_save": true,
          "base_uri": "https://localhost:8080/"
        },
        "id": "OPTxtbtRov7_",
        "outputId": "3f132f56-562f-47cd-ec65-f5e9bb79ee3c"
      },
      "outputs": [
        {
          "output_type": "stream",
          "name": "stdout",
          "text": [
            "\n",
            "=== Movie Recommendation System ===\n",
            "1. Get Movie Recommendations\n",
            "2. Add a New Movie\n",
            "3. Search for a Movie\n",
            "4. Exit\n"
          ]
        }
      ],
      "source": [
        "import random\n",
        "\n",
        "# Updated movie database with at least 15 movies per genre\n",
        "movies_db = {\n",
        "    \"Action\": [\n",
        "        \"Die Hard\", \"Mad Max: Fury Road\", \"The Dark Knight\", \"John Wick\", \"Gladiator\",\n",
        "        \"Mission: Impossible - Fallout\", \"The Avengers\", \"Terminator 2: Judgment Day\",\n",
        "        \"Rambo: First Blood\", \"Skyfall\", \"Black Panther\", \"Inglourious Basterds\",\n",
        "        \"The Raid: Redemption\", \"Speed\", \"Casino Royale\", \"Extraction\", \"Man of Steel\"\n",
        "    ],\n",
        "    \"Comedy\": [\n",
        "        \"The Hangover\", \"Superbad\", \"Anchorman\", \"Step Brothers\", \"21 Jump Street\",\n",
        "        \"Knocked Up\", \"The Grand Budapest Hotel\", \"Dumb and Dumber\", \"Pineapple Express\",\n",
        "        \"Zoolander\", \"Mean Girls\", \"The Nice Guys\", \"Game Night\", \"Tropic Thunder\",\n",
        "        \"Crazy Rich Asians\", \"Bridesmaids\", \"In Bruges\"\n",
        "    ],\n",
        "    \"Drama\": [\n",
        "        \"The Shawshank Redemption\", \"Forrest Gump\", \"The Godfather\", \"Schindler's List\",\n",
        "        \"Fight Club\", \"Parasite\", \"12 Years a Slave\", \"The Green Mile\", \"American Beauty\",\n",
        "        \"Good Will Hunting\", \"No Country for Old Men\", \"The Departed\", \"There Will Be Blood\",\n",
        "        \"A Beautiful Mind\", \"The Pursuit of Happyness\", \"Moonlight\", \"La La Land\"\n",
        "    ],\n",
        "    \"Sci-Fi\": [\n",
        "        \"Blade Runner\", \"The Matrix\", \"Interstellar\", \"Star Wars: A New Hope\", \"Inception\",\n",
        "        \"2001: A Space Odyssey\", \"Arrival\", \"Ex Machina\", \"The Martian\", \"Edge of Tomorrow\",\n",
        "        \"Minority Report\", \"Gattaca\", \"Back to the Future\", \"Aliens\", \"District 9\",\n",
        "        \"Children of Men\", \"Her\"\n",
        "    ],\n",
        "    \"Horror\": [\n",
        "        \"The Shining\", \"Get Out\", \"Hereditary\", \"A Quiet Place\", \"It\",\n",
        "        \"The Exorcist\", \"Psycho\", \"Halloween\", \"The Witch\", \"Midsommar\",\n",
        "        \"Scream\", \"The Conjuring\", \"28 Days Later\", \"Let the Right One In\",\n",
        "        \"Nightmare on Elm Street\", \"Us\", \"Annihilation\"\n",
        "    ]\n",
        "}\n",
        "\n",
        "def get_recommendations():\n",
        "    \"\"\"Get random movie recommendations based on user-selected genre and number.\"\"\"\n",
        "    print(\"\\nAvailable genres:\", \", \".join(movies_db.keys()))\n",
        "    genre = input(\"Enter a genre (e.g., Action, Comedy): \").capitalize().strip()\n",
        "\n",
        "    if genre not in movies_db:\n",
        "        print(f\"'{genre}' is not a valid genre! Please choose from the listed genres.\")\n",
        "        return\n",
        "\n",
        "    try:\n",
        "        num_recommendations = int(input(\"How many recommendations do you want? \"))\n",
        "        if num_recommendations <= 0:\n",
        "            print(\"Please enter a positive number.\")\n",
        "            return\n",
        "    except ValueError:\n",
        "        print(\"Invalid input! Please enter a number.\")\n",
        "        return\n",
        "\n",
        "    available_movies = movies_db[genre]\n",
        "    if not available_movies:\n",
        "        print(f\"No movies available in {genre} genre.\")\n",
        "        return\n",
        "\n",
        "    # Ensure we don't recommend more movies than available\n",
        "    num_recommendations = min(num_recommendations, len(available_movies))\n",
        "    recommendations = random.sample(available_movies, num_recommendations)\n",
        "\n",
        "    print(f\"\\nHere are your {num_recommendations} {genre} movie recommendations:\")\n",
        "    for i, movie in enumerate(recommendations, 1):\n",
        "        print(f\"{i}. {movie}\")\n",
        "\n",
        "def add_movie():\n",
        "    \"\"\"Add a new movie to the database.\"\"\"\n",
        "    print(\"\\nAvailable genres:\", \", \".join(movies_db.keys()))\n",
        "    genre = input(\"Enter the genre for the new movie (e.g., Action, Comedy): \").capitalize().strip()\n",
        "    movie_title = input(\"Enter the movie title: \").strip()\n",
        "\n",
        "    if not movie_title:\n",
        "        print(\"Movie title cannot be empty!\")\n",
        "        return\n",
        "\n",
        "    # If genre doesn't exist, create a new genre\n",
        "    if genre not in movies_db:\n",
        "        movies_db[genre] = []\n",
        "\n",
        "    # Check if movie already exists\n",
        "    if movie_title in movies_db[genre]:\n",
        "        print(f\"{movie_title} is already in the {genre} genre!\")\n",
        "        return\n",
        "\n",
        "    movies_db[genre].append(movie_title)\n",
        "    print(f\"{movie_title} has been added to the {genre} genre!\")\n",
        "\n",
        "def search_movie():\n",
        "    \"\"\"Search for a movie by title in the database.\"\"\"\n",
        "    search_title = input(\"\\nEnter the movie title to search (e.g., The Matrix): \").strip()\n",
        "    if not search_title:\n",
        "        print(\"Search title cannot be empty!\")\n",
        "        return\n",
        "\n",
        "    found = False\n",
        "    for genre, movies in movies_db.items():\n",
        "        if search_title.lower() in [movie.lower() for movie in movies]:\n",
        "            print(f\"{search_title} found in {genre} genre!\")\n",
        "            found = True\n",
        "            break\n",
        "\n",
        "    if not found:\n",
        "        print(f\"'{search_title}' not found in the database.\")\n",
        "\n",
        "def main():\n",
        "    \"\"\"Main function to run the Movie Recommendation System.\"\"\"\n",
        "    while True:\n",
        "        print(\"\\n=== Movie Recommendation System ===\")\n",
        "        print(\"1. Get Movie Recommendations\")\n",
        "        print(\"2. Add a New Movie\")\n",
        "        print(\"3. Search for a Movie\")\n",
        "        print(\"4. Exit\")\n",
        "\n",
        "        choice = input(\"Enter your choice (1-4): \").strip()\n",
        "\n",
        "        if choice == \"1\":\n",
        "            get_recommendations()\n",
        "        elif choice == \"2\":\n",
        "            add_movie()\n",
        "        elif choice == \"3\":\n",
        "            search_movie()\n",
        "        elif choice == \"4\":\n",
        "            print(\"Thank you for using the Movie Recommendation System!\")\n",
        "            break\n",
        "        else:\n",
        "            print(\"Invalid choice! Please enter a number between 1 and 4.\")\n",
        "\n",
        "if __name__ == \"__main__\":\n",
        "    main()"
      ]
    }
  ],
  "metadata": {
    "colab": {
      "provenance": []
    },
    "kernelspec": {
      "display_name": "Python 3",
      "name": "python3"
    },
    "language_info": {
      "name": "python"
    }
  },
  "nbformat": 4,
  "nbformat_minor": 0
}